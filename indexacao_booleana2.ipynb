{
  "nbformat": 4,
  "nbformat_minor": 0,
  "metadata": {
    "colab": {
      "name": "indexacao_booleana2.ipynb",
      "provenance": []
    },
    "kernelspec": {
      "name": "python3",
      "display_name": "Python 3"
    }
  },
  "cells": [
    {
      "cell_type": "code",
      "metadata": {
        "colab": {
          "base_uri": "https://localhost:8080/"
        },
        "id": "0B0AZFvapBeB",
        "outputId": "f3dff97d-455a-48bd-db39-712c5e04a53b"
      },
      "source": [
        "  import numpy as np\n",
        "  x = np.array([[1,2],[3,4]])\n",
        "  y = np.array([[1.5],[3.5]])\n",
        "  print('x:\\n', x)\n",
        "  print('y:\\n', y)"
      ],
      "execution_count": 2,
      "outputs": [
        {
          "output_type": "stream",
          "text": [
            "x:\n",
            " [[1 2]\n",
            " [3 4]]\n",
            "y:\n",
            " [[1.5]\n",
            " [3.5]]\n"
          ],
          "name": "stdout"
        }
      ]
    },
    {
      "cell_type": "code",
      "metadata": {
        "colab": {
          "base_uri": "https://localhost:8080/"
        },
        "id": "t4ToeYnJppxY",
        "outputId": "69915758-9cc8-4929-9b06-f193bab3a83a"
      },
      "source": [
        "#comparação entre arrays\n",
        "print('Comparação de um array escalar (>):\\n', x > 2)#x é maior do que 2?\n",
        "print('Comparação de um array escalar (<):\\n', x < 2)#x é menor do que 2?\n",
        "print('Comparação de um array escalar (==):\\n', x == 2)#x é igual a 2?\n",
        "print('Comparação de um array escalar (>=):\\n', x >= 2)#x é maior ou igual a 2?\n",
        "print('Comparação de um array escalar (<=):\\n', x <= 2)#x é menor ou igual a 2?\n",
        "print('Comparação de um array escalar com ele mesmo (==):\\n', x==x)#x é igual a x?\n",
        "print('Comparação entre os arrays X e Y (>=):\\n', x >= y)#x é maior ou igual a y?"
      ],
      "execution_count": 5,
      "outputs": [
        {
          "output_type": "stream",
          "text": [
            "Comparação de um array escalar (>):\n",
            " [[False False]\n",
            " [ True  True]]\n",
            "Comparação de um array escalar (<):\n",
            " [[ True False]\n",
            " [False False]]\n",
            "Comparação de um array escalar (==):\n",
            " [[False  True]\n",
            " [False False]]\n",
            "Comparação de um array escalar (>=):\n",
            " [[False  True]\n",
            " [ True  True]]\n",
            "Comparação de um array escalar (<=):\n",
            " [[ True  True]\n",
            " [False False]]\n",
            "Comparação de um array escalar com ele mesmo (==):\n",
            " [[ True  True]\n",
            " [ True  True]]\n",
            "Comparação entre os arrays X e Y (>=):\n",
            " [[False  True]\n",
            " [False  True]]\n"
          ],
          "name": "stdout"
        }
      ]
    },
    {
      "cell_type": "code",
      "metadata": {
        "colab": {
          "base_uri": "https://localhost:8080/"
        },
        "id": "eN_MFFkMrKzH",
        "outputId": "c17eff64-c5a2-4118-9885-7089e1704765"
      },
      "source": [
        "#indexação booleana\n",
        "x = np.array([[1,2,3],\n",
        "              [4,8,0],\n",
        "              [8,4,2]])\n",
        "print('x:\\n', x)"
      ],
      "execution_count": 8,
      "outputs": [
        {
          "output_type": "stream",
          "text": [
            "x:\n",
            " [[1 2 3]\n",
            " [4 8 0]\n",
            " [8 4 2]]\n"
          ],
          "name": "stdout"
        }
      ]
    },
    {
      "cell_type": "code",
      "metadata": {
        "colab": {
          "base_uri": "https://localhost:8080/"
        },
        "id": "4xVIh-L0rmNJ",
        "outputId": "ce61cc26-e103-4534-fad4-0c38863964e6"
      },
      "source": [
        "'''indexação booleana para retornar elementos\n",
        "maiores do que K'''\n",
        "k = 5\n",
        "cond = x > k #condição: x maior que k (5)\n",
        "print('Condição:\\n', cond)\n",
        "print('Elementos maiores que k:\\n', x[cond])\n",
        "print('Quantidade de elementos maiores do que k:\\n', len(x[cond]))\n"
      ],
      "execution_count": 13,
      "outputs": [
        {
          "output_type": "stream",
          "text": [
            "Condição:\n",
            " [[False False False]\n",
            " [False  True False]\n",
            " [ True False False]]\n",
            "Elementos maiores que k:\n",
            " [8 8]\n",
            "Quantidade de elementos maiores do que k:\n",
            " 2\n"
          ],
          "name": "stdout"
        }
      ]
    },
    {
      "cell_type": "code",
      "metadata": {
        "colab": {
          "base_uri": "https://localhost:8080/"
        },
        "id": "2SdMHGwttJwV",
        "outputId": "940c3056-7a94-4833-bbec-87142d276318"
      },
      "source": [
        "#retornando os números pares\n",
        "cond2 = (x % 2) == 0\n",
        "print('Condição:\\n', cond2)\n",
        "print('Números pares:\\n', x[cond2])\n",
        "print('Quantidade de números pares:\\n', len(x[cond2]))"
      ],
      "execution_count": 15,
      "outputs": [
        {
          "output_type": "stream",
          "text": [
            "Condição:\n",
            " [[False  True False]\n",
            " [ True  True  True]\n",
            " [ True  True  True]]\n",
            "Números pares:\n",
            " [2 4 8 0 8 4 2]\n",
            "Quantidade de números pares:\n",
            " 7\n"
          ],
          "name": "stdout"
        }
      ]
    },
    {
      "cell_type": "code",
      "metadata": {
        "colab": {
          "base_uri": "https://localhost:8080/"
        },
        "id": "oq5BgF8juLus",
        "outputId": "e542427e-5d6d-4bea-f579-0e865d418bb1"
      },
      "source": [
        "#retornando os números ímpares\n",
        "cond3 = (x % 2) == 1\n",
        "print('Condição:\\n', cond3)\n",
        "print('Números ímpares:\\n', x[cond3])\n",
        "print('Quantidade de números ímpares:\\n', len(x[cond3]))"
      ],
      "execution_count": 18,
      "outputs": [
        {
          "output_type": "stream",
          "text": [
            "Condição:\n",
            " [[ True False  True]\n",
            " [False False False]\n",
            " [False False False]]\n",
            "Números ímpares:\n",
            " [1 3]\n",
            "Quantidade de números ímpares:\n",
            " 2\n"
          ],
          "name": "stdout"
        }
      ]
    }
  ]
}