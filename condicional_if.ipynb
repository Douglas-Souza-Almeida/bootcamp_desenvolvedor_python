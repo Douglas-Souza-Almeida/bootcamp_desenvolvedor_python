{
  "nbformat": 4,
  "nbformat_minor": 0,
  "metadata": {
    "colab": {
      "name": "condicional_if.ipynb",
      "provenance": []
    },
    "kernelspec": {
      "name": "python3",
      "display_name": "Python 3"
    }
  },
  "cells": [
    {
      "cell_type": "code",
      "metadata": {
        "colab": {
          "base_uri": "https://localhost:8080/"
        },
        "id": "SzsMGuufJOi6",
        "outputId": "2c34d9ac-c5de-48f3-f9a3-06a6db01ffa9"
      },
      "source": [
        "#verificando um número\n",
        "numero=float(input('Informe um número: '))\n",
        "if numero%2==0:\n",
        "  print('O número informado é um número par.')\n",
        "else:\n",
        "  print('O número informado é um número ímpar.')\n",
        "if numero > 0:\n",
        "  print('O número informado é um número positivo.')\n",
        "else:\n",
        "  print('O número informado é um número negativo')\n",
        "numero2=float(input('Informe outro número: '))\n",
        "if numero == numero2:\n",
        "  print('Os números informados são iguais: %1.2f' %numero)\n",
        "else:\n",
        "  print('Os números informados não são iguais')\n",
        "  if numero > numero2:\n",
        "    print('O primeiro número informado,%1.2f, é maior que o segundo número informado, %1.2f.' %(numero,numero2))\n",
        "  else:\n",
        "    print('O segundo número informado, %1.2f, é maior que o primeiro número informado, %1.2f.' %(numero2,numero))"
      ],
      "execution_count": 9,
      "outputs": [
        {
          "output_type": "stream",
          "text": [
            "Informe um número: 10\n",
            "O número informado é um número par.\n",
            "O número informado é um número positivo.\n",
            "Informe outro número: 12\n",
            "Os números informados não são iguais\n",
            "O segundo número informado, 12.00, é maior que o primeiro número informado, 10.00.\n"
          ],
          "name": "stdout"
        }
      ]
    }
  ]
}