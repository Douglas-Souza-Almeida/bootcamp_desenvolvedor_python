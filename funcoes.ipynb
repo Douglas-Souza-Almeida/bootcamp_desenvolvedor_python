{
  "nbformat": 4,
  "nbformat_minor": 0,
  "metadata": {
    "colab": {
      "name": "funcoes.ipynb",
      "provenance": []
    },
    "kernelspec": {
      "name": "python3",
      "display_name": "Python 3"
    }
  },
  "cells": [
    {
      "cell_type": "code",
      "metadata": {
        "colab": {
          "base_uri": "https://localhost:8080/"
        },
        "id": "dDJ2C_Ia1pC9",
        "outputId": "1388a88c-d02e-469d-db49-fcd5feb3b032"
      },
      "source": [
        "#definindo funções\n",
        "def equacao_reta(x):\n",
        "  y=2*x+1\n",
        "  print('Para o valor informado, y é equivalente à:')\n",
        "  return y\n",
        "x=float(input('Informe um valor para \"x\": '))\n",
        "equacao_reta(x)"
      ],
      "execution_count": 3,
      "outputs": [
        {
          "output_type": "stream",
          "text": [
            "Informe um valor para \"x\": 2\n",
            "Para o valor informado, y é equivalente à:\n"
          ],
          "name": "stdout"
        },
        {
          "output_type": "execute_result",
          "data": {
            "text/plain": [
              "5.0"
            ]
          },
          "metadata": {
            "tags": []
          },
          "execution_count": 3
        }
      ]
    },
    {
      "cell_type": "code",
      "metadata": {
        "colab": {
          "base_uri": "https://localhost:8080/"
        },
        "id": "napanXQ83JKs",
        "outputId": "2ab1b0bf-4458-4b11-a663-253e7241821a"
      },
      "source": [
        "#utilizando listas e funções\n",
        "import sys\n",
        "def equacao(x):\n",
        "  y=2*x+1\n",
        "  ylista.append(y)\n",
        "  return print('x = '+str(x)+'      7y = '+str(y))\n",
        "ylista=[]\n",
        "xlista=[]\n",
        "try:\n",
        "  j=int(input('Informe a quantidade de dados que serão analisados: '))\n",
        "  for i in range(j):  \n",
        "    try:\n",
        "      x=float(input('\\nInforme um valor para \"x\": '))\n",
        "      equacao(x)\n",
        "      xlista.append(x)\n",
        "    except:\n",
        "      print('Valor incorreto.')\n",
        "  print('Os valores calculados foram:\\nX = '+str(xlista)+'\\nY = '+str(ylista))\n",
        "except:\n",
        "  print('Informe um número inteiro para executar a rotina.')\n",
        "  exit()\n",
        "print('---FIM---')"
      ],
      "execution_count": 2,
      "outputs": [
        {
          "output_type": "stream",
          "text": [
            "Informe a quantidade de dados que serão analisados: a\n",
            "Informe um número inteiro para executar a rotina.\n",
            "---FIM---\n"
          ],
          "name": "stdout"
        }
      ]
    },
    {
      "cell_type": "code",
      "metadata": {
        "colab": {
          "base_uri": "https://localhost:8080/"
        },
        "id": "RZRXvYiKNzld",
        "outputId": "7de93325-b31e-440a-99ed-0c102dd335b2"
      },
      "source": [
        "#utilizando diversos argumentos em uma função\n",
        "def print_nomes(*arg):\n",
        "  for arg in nomes:\n",
        "    print('Olá '+arg+'!')\n",
        "\n",
        "def cadastro_nomes(*arg):\n",
        "  opcao='s'\n",
        "  while opcao == 's' or opcao =='S':\n",
        "    nome=input('Informe o nome: ')\n",
        "    nomes.append(nome)\n",
        "    opcao=input('Deseja incluir um novo nome na lista? [S] para \"sim\" e [N] para \"não\": ')\n",
        "  print('Lista finalizada.')\n",
        "  print_nomes(nomes)\n",
        "\n",
        "nomes=[]\n",
        "opcao=input('Tecle \"I\" para iniciar a lista ou \"ENTER\" para sair: ')\n",
        "while opcao =='i' or opcao =='I':\n",
        "  cadastro_nomes(nomes)\n",
        "  opcao=''\n",
        "\n"
      ],
      "execution_count": 36,
      "outputs": [
        {
          "output_type": "stream",
          "text": [
            "Tecle \"I\" para iniciar a lista ou \"ENTER\" para sair: i\n",
            "Informe o nome: Douglas\n",
            "Deseja incluir um novo nome na lista? [S] para \"sim\" e [N] para \"não\": s\n",
            "Informe o nome: Michelle\n",
            "Deseja incluir um novo nome na lista? [S] para \"sim\" e [N] para \"não\": n\n",
            "Lista finalizada.\n",
            "Olá Douglas!\n",
            "Olá Michelle!\n"
          ],
          "name": "stdout"
        }
      ]
    },
    {
      "cell_type": "code",
      "metadata": {
        "colab": {
          "base_uri": "https://localhost:8080/"
        },
        "id": "0u43OPklIJXj",
        "outputId": "d759bd7f-60fd-4ed2-9ffa-9571c41097a3"
      },
      "source": [
        "#definindo a funçao fatorial\n",
        "def fatorial(x):\n",
        "  if x==0:\n",
        "    return 1\n",
        "  return x*fatorial(x-1)\n",
        "\n",
        "numero=float(input('Informe um valor para calcular o seu fatorial: '))\n",
        "fatorial(numero)"
      ],
      "execution_count": 38,
      "outputs": [
        {
          "output_type": "stream",
          "text": [
            "Informe um valor para calcular o seu fatorial: 10\n"
          ],
          "name": "stdout"
        },
        {
          "output_type": "execute_result",
          "data": {
            "text/plain": [
              "3628800.0"
            ]
          },
          "metadata": {
            "tags": []
          },
          "execution_count": 38
        }
      ]
    },
    {
      "cell_type": "code",
      "metadata": {
        "colab": {
          "base_uri": "https://localhost:8080/"
        },
        "id": "40JDucVJX-8e",
        "outputId": "6c8266cc-37fb-49ab-e2f4-98d05bd6dd10"
      },
      "source": [
        "#importando bibliotecas\n",
        "import math\n",
        "numero=float(input('Informe um número para calcular o seu fatorial: '))\n",
        "print('O fatorial de {} é {}'.format(numero,fatorial(numero)))"
      ],
      "execution_count": 37,
      "outputs": [
        {
          "output_type": "stream",
          "text": [
            "Informe um número para calcular o seu fatorial: 10\n",
            "O fatorial de 10.0 é 3628800.0\n"
          ],
          "name": "stdout"
        }
      ]
    }
  ]
}