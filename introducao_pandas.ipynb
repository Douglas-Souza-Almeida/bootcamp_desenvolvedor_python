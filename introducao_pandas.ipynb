{
  "nbformat": 4,
  "nbformat_minor": 0,
  "metadata": {
    "colab": {
      "name": "introducao_pandas.ipynb",
      "provenance": []
    },
    "kernelspec": {
      "name": "python3",
      "display_name": "Python 3"
    }
  },
  "cells": [
    {
      "cell_type": "code",
      "metadata": {
        "id": "r3x0ndR8oLDE"
      },
      "source": [
        "#importando o pandas\n",
        "import pandas as pd"
      ],
      "execution_count": 1,
      "outputs": []
    },
    {
      "cell_type": "code",
      "metadata": {
        "colab": {
          "base_uri": "https://localhost:8080/",
          "height": 238
        },
        "id": "kiU83BvboXIp",
        "outputId": "86764b30-664f-4995-9bc5-6247f116006e"
      },
      "source": [
        "#leitura de dados\n",
        "df = pd.read_csv(\"https://pycourse.s3.amazonaws.com/temperature.csv\")\n",
        "df"
      ],
      "execution_count": 2,
      "outputs": [
        {
          "output_type": "execute_result",
          "data": {
            "text/html": [
              "<div>\n",
              "<style scoped>\n",
              "    .dataframe tbody tr th:only-of-type {\n",
              "        vertical-align: middle;\n",
              "    }\n",
              "\n",
              "    .dataframe tbody tr th {\n",
              "        vertical-align: top;\n",
              "    }\n",
              "\n",
              "    .dataframe thead th {\n",
              "        text-align: right;\n",
              "    }\n",
              "</style>\n",
              "<table border=\"1\" class=\"dataframe\">\n",
              "  <thead>\n",
              "    <tr style=\"text-align: right;\">\n",
              "      <th></th>\n",
              "      <th>date</th>\n",
              "      <th>temperatura</th>\n",
              "      <th>classification</th>\n",
              "    </tr>\n",
              "  </thead>\n",
              "  <tbody>\n",
              "    <tr>\n",
              "      <th>0</th>\n",
              "      <td>2020-01-01</td>\n",
              "      <td>29.1</td>\n",
              "      <td>quente</td>\n",
              "    </tr>\n",
              "    <tr>\n",
              "      <th>1</th>\n",
              "      <td>2020-02-01</td>\n",
              "      <td>31.2</td>\n",
              "      <td>muito quente</td>\n",
              "    </tr>\n",
              "    <tr>\n",
              "      <th>2</th>\n",
              "      <td>2020-03-01</td>\n",
              "      <td>28.5</td>\n",
              "      <td>quente</td>\n",
              "    </tr>\n",
              "    <tr>\n",
              "      <th>3</th>\n",
              "      <td>2020-04-01</td>\n",
              "      <td>28.0</td>\n",
              "      <td>quente</td>\n",
              "    </tr>\n",
              "    <tr>\n",
              "      <th>4</th>\n",
              "      <td>2020-05-01</td>\n",
              "      <td>24.0</td>\n",
              "      <td>confortavel</td>\n",
              "    </tr>\n",
              "    <tr>\n",
              "      <th>5</th>\n",
              "      <td>2020-06-01</td>\n",
              "      <td>20.0</td>\n",
              "      <td>frio</td>\n",
              "    </tr>\n",
              "  </tbody>\n",
              "</table>\n",
              "</div>"
            ],
            "text/plain": [
              "         date  temperatura classification\n",
              "0  2020-01-01         29.1         quente\n",
              "1  2020-02-01         31.2   muito quente\n",
              "2  2020-03-01         28.5         quente\n",
              "3  2020-04-01         28.0         quente\n",
              "4  2020-05-01         24.0    confortavel\n",
              "5  2020-06-01         20.0           frio"
            ]
          },
          "metadata": {
            "tags": []
          },
          "execution_count": 2
        }
      ]
    },
    {
      "cell_type": "code",
      "metadata": {
        "id": "gTqDKd90pZOv"
      },
      "source": [
        "#carregando um arquivo excel com 2 abas\n",
        "arquivo_excel = pd.ExcelFile(\"https://pycourse.s3.amazonaws.com/temperature.xlsx\")"
      ],
      "execution_count": 5,
      "outputs": []
    },
    {
      "cell_type": "code",
      "metadata": {
        "colab": {
          "base_uri": "https://localhost:8080/",
          "height": 238
        },
        "id": "X8pZKwbYquAp",
        "outputId": "432f8f76-5be7-40ac-c76b-4865b2ad939b"
      },
      "source": [
        "#leitura da primeira aba\n",
        "df2 = pd.read_excel(arquivo_excel, sheet_name='Sheet1')\n",
        "df2"
      ],
      "execution_count": 7,
      "outputs": [
        {
          "output_type": "execute_result",
          "data": {
            "text/html": [
              "<div>\n",
              "<style scoped>\n",
              "    .dataframe tbody tr th:only-of-type {\n",
              "        vertical-align: middle;\n",
              "    }\n",
              "\n",
              "    .dataframe tbody tr th {\n",
              "        vertical-align: top;\n",
              "    }\n",
              "\n",
              "    .dataframe thead th {\n",
              "        text-align: right;\n",
              "    }\n",
              "</style>\n",
              "<table border=\"1\" class=\"dataframe\">\n",
              "  <thead>\n",
              "    <tr style=\"text-align: right;\">\n",
              "      <th></th>\n",
              "      <th>date</th>\n",
              "      <th>temperatura</th>\n",
              "      <th>classification</th>\n",
              "    </tr>\n",
              "  </thead>\n",
              "  <tbody>\n",
              "    <tr>\n",
              "      <th>0</th>\n",
              "      <td>2020-01-01</td>\n",
              "      <td>29.1</td>\n",
              "      <td>quente</td>\n",
              "    </tr>\n",
              "    <tr>\n",
              "      <th>1</th>\n",
              "      <td>2020-02-01</td>\n",
              "      <td>31.2</td>\n",
              "      <td>muito quente</td>\n",
              "    </tr>\n",
              "    <tr>\n",
              "      <th>2</th>\n",
              "      <td>2020-03-01</td>\n",
              "      <td>28.5</td>\n",
              "      <td>quente</td>\n",
              "    </tr>\n",
              "    <tr>\n",
              "      <th>3</th>\n",
              "      <td>2020-04-01</td>\n",
              "      <td>28.0</td>\n",
              "      <td>quente</td>\n",
              "    </tr>\n",
              "    <tr>\n",
              "      <th>4</th>\n",
              "      <td>2020-05-01</td>\n",
              "      <td>24.0</td>\n",
              "      <td>confortavel</td>\n",
              "    </tr>\n",
              "    <tr>\n",
              "      <th>5</th>\n",
              "      <td>2020-06-01</td>\n",
              "      <td>20.0</td>\n",
              "      <td>frio</td>\n",
              "    </tr>\n",
              "  </tbody>\n",
              "</table>\n",
              "</div>"
            ],
            "text/plain": [
              "        date  temperatura classification\n",
              "0 2020-01-01         29.1         quente\n",
              "1 2020-02-01         31.2   muito quente\n",
              "2 2020-03-01         28.5         quente\n",
              "3 2020-04-01         28.0         quente\n",
              "4 2020-05-01         24.0    confortavel\n",
              "5 2020-06-01         20.0           frio"
            ]
          },
          "metadata": {
            "tags": []
          },
          "execution_count": 7
        }
      ]
    },
    {
      "cell_type": "code",
      "metadata": {
        "colab": {
          "base_uri": "https://localhost:8080/",
          "height": 238
        },
        "id": "EdW0ehkXrPzo",
        "outputId": "775d2902-9843-49f2-aff9-f7d43f639bb7"
      },
      "source": [
        "#leitura da segunda aba\n",
        "df3 = pd.read_excel(arquivo_excel, sheet_name='Sheet2')\n",
        "df3['temperatura'] = df3['temperatura'].str.replace(',','.').astype('float')#alterando os valores com vírgula\n",
        "df3"
      ],
      "execution_count": 27,
      "outputs": [
        {
          "output_type": "execute_result",
          "data": {
            "text/html": [
              "<div>\n",
              "<style scoped>\n",
              "    .dataframe tbody tr th:only-of-type {\n",
              "        vertical-align: middle;\n",
              "    }\n",
              "\n",
              "    .dataframe tbody tr th {\n",
              "        vertical-align: top;\n",
              "    }\n",
              "\n",
              "    .dataframe thead th {\n",
              "        text-align: right;\n",
              "    }\n",
              "</style>\n",
              "<table border=\"1\" class=\"dataframe\">\n",
              "  <thead>\n",
              "    <tr style=\"text-align: right;\">\n",
              "      <th></th>\n",
              "      <th>date</th>\n",
              "      <th>temperatura</th>\n",
              "      <th>classification</th>\n",
              "    </tr>\n",
              "  </thead>\n",
              "  <tbody>\n",
              "    <tr>\n",
              "      <th>0</th>\n",
              "      <td>2020-01-01</td>\n",
              "      <td>29.1</td>\n",
              "      <td>quente</td>\n",
              "    </tr>\n",
              "    <tr>\n",
              "      <th>1</th>\n",
              "      <td>2020-02-01</td>\n",
              "      <td>31.2</td>\n",
              "      <td>muito quente</td>\n",
              "    </tr>\n",
              "    <tr>\n",
              "      <th>2</th>\n",
              "      <td>2020-03-01</td>\n",
              "      <td>28.5</td>\n",
              "      <td>quente</td>\n",
              "    </tr>\n",
              "    <tr>\n",
              "      <th>3</th>\n",
              "      <td>2020-04-01</td>\n",
              "      <td>28.0</td>\n",
              "      <td>quente</td>\n",
              "    </tr>\n",
              "    <tr>\n",
              "      <th>4</th>\n",
              "      <td>2020-05-01</td>\n",
              "      <td>24.0</td>\n",
              "      <td>confortavel</td>\n",
              "    </tr>\n",
              "    <tr>\n",
              "      <th>5</th>\n",
              "      <td>2020-06-01</td>\n",
              "      <td>20.0</td>\n",
              "      <td>frio</td>\n",
              "    </tr>\n",
              "  </tbody>\n",
              "</table>\n",
              "</div>"
            ],
            "text/plain": [
              "        date  temperatura classification\n",
              "0 2020-01-01         29.1         quente\n",
              "1 2020-02-01         31.2   muito quente\n",
              "2 2020-03-01         28.5         quente\n",
              "3 2020-04-01         28.0         quente\n",
              "4 2020-05-01         24.0    confortavel\n",
              "5 2020-06-01         20.0           frio"
            ]
          },
          "metadata": {
            "tags": []
          },
          "execution_count": 27
        }
      ]
    },
    {
      "cell_type": "code",
      "metadata": {
        "colab": {
          "base_uri": "https://localhost:8080/",
          "height": 143
        },
        "id": "OD50JHG-0bjB",
        "outputId": "e1f8a982-5478-4946-f0f8-58a8d24e9c29"
      },
      "source": [
        "#visualizando as primeiras linhas\n",
        "n=3\n",
        "df.head(n)"
      ],
      "execution_count": 28,
      "outputs": [
        {
          "output_type": "execute_result",
          "data": {
            "text/html": [
              "<div>\n",
              "<style scoped>\n",
              "    .dataframe tbody tr th:only-of-type {\n",
              "        vertical-align: middle;\n",
              "    }\n",
              "\n",
              "    .dataframe tbody tr th {\n",
              "        vertical-align: top;\n",
              "    }\n",
              "\n",
              "    .dataframe thead th {\n",
              "        text-align: right;\n",
              "    }\n",
              "</style>\n",
              "<table border=\"1\" class=\"dataframe\">\n",
              "  <thead>\n",
              "    <tr style=\"text-align: right;\">\n",
              "      <th></th>\n",
              "      <th>date</th>\n",
              "      <th>temperatura</th>\n",
              "      <th>classification</th>\n",
              "    </tr>\n",
              "  </thead>\n",
              "  <tbody>\n",
              "    <tr>\n",
              "      <th>0</th>\n",
              "      <td>2020-01-01</td>\n",
              "      <td>29.1</td>\n",
              "      <td>quente</td>\n",
              "    </tr>\n",
              "    <tr>\n",
              "      <th>1</th>\n",
              "      <td>2020-02-01</td>\n",
              "      <td>31.2</td>\n",
              "      <td>muito quente</td>\n",
              "    </tr>\n",
              "    <tr>\n",
              "      <th>2</th>\n",
              "      <td>2020-03-01</td>\n",
              "      <td>28.5</td>\n",
              "      <td>quente</td>\n",
              "    </tr>\n",
              "  </tbody>\n",
              "</table>\n",
              "</div>"
            ],
            "text/plain": [
              "         date  temperatura classification\n",
              "0  2020-01-01         29.1         quente\n",
              "1  2020-02-01         31.2   muito quente\n",
              "2  2020-03-01         28.5         quente"
            ]
          },
          "metadata": {
            "tags": []
          },
          "execution_count": 28
        }
      ]
    },
    {
      "cell_type": "code",
      "metadata": {
        "colab": {
          "base_uri": "https://localhost:8080/",
          "height": 143
        },
        "id": "s8GNo7ZU0kPU",
        "outputId": "27ac7cca-e05a-4b18-9533-4fae46030d80"
      },
      "source": [
        "#visualizando as três últimas linhas\n",
        "df.tail(n)"
      ],
      "execution_count": 30,
      "outputs": [
        {
          "output_type": "execute_result",
          "data": {
            "text/html": [
              "<div>\n",
              "<style scoped>\n",
              "    .dataframe tbody tr th:only-of-type {\n",
              "        vertical-align: middle;\n",
              "    }\n",
              "\n",
              "    .dataframe tbody tr th {\n",
              "        vertical-align: top;\n",
              "    }\n",
              "\n",
              "    .dataframe thead th {\n",
              "        text-align: right;\n",
              "    }\n",
              "</style>\n",
              "<table border=\"1\" class=\"dataframe\">\n",
              "  <thead>\n",
              "    <tr style=\"text-align: right;\">\n",
              "      <th></th>\n",
              "      <th>date</th>\n",
              "      <th>temperatura</th>\n",
              "      <th>classification</th>\n",
              "    </tr>\n",
              "  </thead>\n",
              "  <tbody>\n",
              "    <tr>\n",
              "      <th>3</th>\n",
              "      <td>2020-04-01</td>\n",
              "      <td>28.0</td>\n",
              "      <td>quente</td>\n",
              "    </tr>\n",
              "    <tr>\n",
              "      <th>4</th>\n",
              "      <td>2020-05-01</td>\n",
              "      <td>24.0</td>\n",
              "      <td>confortavel</td>\n",
              "    </tr>\n",
              "    <tr>\n",
              "      <th>5</th>\n",
              "      <td>2020-06-01</td>\n",
              "      <td>20.0</td>\n",
              "      <td>frio</td>\n",
              "    </tr>\n",
              "  </tbody>\n",
              "</table>\n",
              "</div>"
            ],
            "text/plain": [
              "         date  temperatura classification\n",
              "3  2020-04-01         28.0         quente\n",
              "4  2020-05-01         24.0    confortavel\n",
              "5  2020-06-01         20.0           frio"
            ]
          },
          "metadata": {
            "tags": []
          },
          "execution_count": 30
        }
      ]
    },
    {
      "cell_type": "code",
      "metadata": {
        "colab": {
          "base_uri": "https://localhost:8080/"
        },
        "id": "8Te0l48M0tF7",
        "outputId": "bf7a7958-7d79-4558-9a46-1372b25051c7"
      },
      "source": [
        "#identificando os tipos de dados do dataframe\n",
        "df.dtypes"
      ],
      "execution_count": 35,
      "outputs": [
        {
          "output_type": "execute_result",
          "data": {
            "text/plain": [
              "date               object\n",
              "temperatura       float64\n",
              "classification     object\n",
              "dtype: object"
            ]
          },
          "metadata": {
            "tags": []
          },
          "execution_count": 35
        }
      ]
    },
    {
      "cell_type": "code",
      "metadata": {
        "colab": {
          "base_uri": "https://localhost:8080/",
          "height": 300
        },
        "id": "0X8IfGTI1Dgq",
        "outputId": "e1f9cec6-8080-4a24-c779-e82e57258690"
      },
      "source": [
        "#exibindo estatísticas básicas\n",
        "df.describe()"
      ],
      "execution_count": 36,
      "outputs": [
        {
          "output_type": "execute_result",
          "data": {
            "text/html": [
              "<div>\n",
              "<style scoped>\n",
              "    .dataframe tbody tr th:only-of-type {\n",
              "        vertical-align: middle;\n",
              "    }\n",
              "\n",
              "    .dataframe tbody tr th {\n",
              "        vertical-align: top;\n",
              "    }\n",
              "\n",
              "    .dataframe thead th {\n",
              "        text-align: right;\n",
              "    }\n",
              "</style>\n",
              "<table border=\"1\" class=\"dataframe\">\n",
              "  <thead>\n",
              "    <tr style=\"text-align: right;\">\n",
              "      <th></th>\n",
              "      <th>temperatura</th>\n",
              "    </tr>\n",
              "  </thead>\n",
              "  <tbody>\n",
              "    <tr>\n",
              "      <th>count</th>\n",
              "      <td>6.000000</td>\n",
              "    </tr>\n",
              "    <tr>\n",
              "      <th>mean</th>\n",
              "      <td>26.800000</td>\n",
              "    </tr>\n",
              "    <tr>\n",
              "      <th>std</th>\n",
              "      <td>4.075782</td>\n",
              "    </tr>\n",
              "    <tr>\n",
              "      <th>min</th>\n",
              "      <td>20.000000</td>\n",
              "    </tr>\n",
              "    <tr>\n",
              "      <th>25%</th>\n",
              "      <td>25.000000</td>\n",
              "    </tr>\n",
              "    <tr>\n",
              "      <th>50%</th>\n",
              "      <td>28.250000</td>\n",
              "    </tr>\n",
              "    <tr>\n",
              "      <th>75%</th>\n",
              "      <td>28.950000</td>\n",
              "    </tr>\n",
              "    <tr>\n",
              "      <th>max</th>\n",
              "      <td>31.200000</td>\n",
              "    </tr>\n",
              "  </tbody>\n",
              "</table>\n",
              "</div>"
            ],
            "text/plain": [
              "       temperatura\n",
              "count     6.000000\n",
              "mean     26.800000\n",
              "std       4.075782\n",
              "min      20.000000\n",
              "25%      25.000000\n",
              "50%      28.250000\n",
              "75%      28.950000\n",
              "max      31.200000"
            ]
          },
          "metadata": {
            "tags": []
          },
          "execution_count": 36
        }
      ]
    },
    {
      "cell_type": "code",
      "metadata": {
        "colab": {
          "base_uri": "https://localhost:8080/"
        },
        "id": "wgam8izQ1RM6",
        "outputId": "83aed270-864f-4bca-a57c-77df9fb2ffb2"
      },
      "source": [
        "#dataframe info\n",
        "df.info()"
      ],
      "execution_count": 37,
      "outputs": [
        {
          "output_type": "stream",
          "text": [
            "<class 'pandas.core.frame.DataFrame'>\n",
            "RangeIndex: 6 entries, 0 to 5\n",
            "Data columns (total 3 columns):\n",
            " #   Column          Non-Null Count  Dtype  \n",
            "---  ------          --------------  -----  \n",
            " 0   date            6 non-null      object \n",
            " 1   temperatura     6 non-null      float64\n",
            " 2   classification  6 non-null      object \n",
            "dtypes: float64(1), object(2)\n",
            "memory usage: 272.0+ bytes\n"
          ],
          "name": "stdout"
        }
      ]
    },
    {
      "cell_type": "code",
      "metadata": {
        "colab": {
          "base_uri": "https://localhost:8080/"
        },
        "id": "yCIjTqDj1ZSQ",
        "outputId": "b2f94f25-5cda-4608-8372-0489d8c29be5"
      },
      "source": [
        "#exibindo o nome das colunas\n",
        "df.columns"
      ],
      "execution_count": 39,
      "outputs": [
        {
          "output_type": "execute_result",
          "data": {
            "text/plain": [
              "Index(['date', 'temperatura', 'classification'], dtype='object')"
            ]
          },
          "metadata": {
            "tags": []
          },
          "execution_count": 39
        }
      ]
    },
    {
      "cell_type": "code",
      "metadata": {
        "id": "vp4I6DRE1hpo"
      },
      "source": [
        "#alterando o nome das colunas\n",
        "df.columns=['Data', 'Temperatura', 'Classificação']"
      ],
      "execution_count": 42,
      "outputs": []
    },
    {
      "cell_type": "code",
      "metadata": {
        "colab": {
          "base_uri": "https://localhost:8080/",
          "height": 238
        },
        "id": "8PNkb-Z81ymC",
        "outputId": "183d0de8-8209-48f9-8e92-1d29178b769f"
      },
      "source": [
        "#exibindo o dataframe com as colunas alteradas\n",
        "df"
      ],
      "execution_count": 43,
      "outputs": [
        {
          "output_type": "execute_result",
          "data": {
            "text/html": [
              "<div>\n",
              "<style scoped>\n",
              "    .dataframe tbody tr th:only-of-type {\n",
              "        vertical-align: middle;\n",
              "    }\n",
              "\n",
              "    .dataframe tbody tr th {\n",
              "        vertical-align: top;\n",
              "    }\n",
              "\n",
              "    .dataframe thead th {\n",
              "        text-align: right;\n",
              "    }\n",
              "</style>\n",
              "<table border=\"1\" class=\"dataframe\">\n",
              "  <thead>\n",
              "    <tr style=\"text-align: right;\">\n",
              "      <th></th>\n",
              "      <th>Data</th>\n",
              "      <th>Temperatura</th>\n",
              "      <th>Classificação</th>\n",
              "    </tr>\n",
              "  </thead>\n",
              "  <tbody>\n",
              "    <tr>\n",
              "      <th>0</th>\n",
              "      <td>2020-01-01</td>\n",
              "      <td>29.1</td>\n",
              "      <td>quente</td>\n",
              "    </tr>\n",
              "    <tr>\n",
              "      <th>1</th>\n",
              "      <td>2020-02-01</td>\n",
              "      <td>31.2</td>\n",
              "      <td>muito quente</td>\n",
              "    </tr>\n",
              "    <tr>\n",
              "      <th>2</th>\n",
              "      <td>2020-03-01</td>\n",
              "      <td>28.5</td>\n",
              "      <td>quente</td>\n",
              "    </tr>\n",
              "    <tr>\n",
              "      <th>3</th>\n",
              "      <td>2020-04-01</td>\n",
              "      <td>28.0</td>\n",
              "      <td>quente</td>\n",
              "    </tr>\n",
              "    <tr>\n",
              "      <th>4</th>\n",
              "      <td>2020-05-01</td>\n",
              "      <td>24.0</td>\n",
              "      <td>confortavel</td>\n",
              "    </tr>\n",
              "    <tr>\n",
              "      <th>5</th>\n",
              "      <td>2020-06-01</td>\n",
              "      <td>20.0</td>\n",
              "      <td>frio</td>\n",
              "    </tr>\n",
              "  </tbody>\n",
              "</table>\n",
              "</div>"
            ],
            "text/plain": [
              "         Data  Temperatura Classificação\n",
              "0  2020-01-01         29.1        quente\n",
              "1  2020-02-01         31.2  muito quente\n",
              "2  2020-03-01         28.5        quente\n",
              "3  2020-04-01         28.0        quente\n",
              "4  2020-05-01         24.0   confortavel\n",
              "5  2020-06-01         20.0          frio"
            ]
          },
          "metadata": {
            "tags": []
          },
          "execution_count": 43
        }
      ]
    }
  ]
}