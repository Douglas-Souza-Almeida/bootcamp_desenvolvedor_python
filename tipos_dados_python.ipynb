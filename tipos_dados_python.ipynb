{
  "nbformat": 4,
  "nbformat_minor": 0,
  "metadata": {
    "colab": {
      "name": "tipos_dados_python.ipynb",
      "provenance": [],
      "collapsed_sections": []
    },
    "kernelspec": {
      "name": "python3",
      "display_name": "Python 3"
    }
  },
  "cells": [
    {
      "cell_type": "code",
      "metadata": {
        "colab": {
          "base_uri": "https://localhost:8080/"
        },
        "id": "qr3dPaQa6WIS",
        "outputId": "3e6f371b-f2c6-41df-909f-d8c0176ebc47"
      },
      "source": [
        "dicionario={}\n",
        "print(dicionario)\n",
        "print(type(dicionario))"
      ],
      "execution_count": null,
      "outputs": [
        {
          "output_type": "stream",
          "text": [
            "{}\n",
            "<class 'dict'>\n"
          ],
          "name": "stdout"
        }
      ]
    },
    {
      "cell_type": "code",
      "metadata": {
        "colab": {
          "base_uri": "https://localhost:8080/"
        },
        "id": "8wkn-IY572Cr",
        "outputId": "66672572-aae0-42ec-9f78-aad0c94eb78b"
      },
      "source": [
        "dicionario=dict([(1,'python'),(2,'java')])\n",
        "print(dicionario)"
      ],
      "execution_count": null,
      "outputs": [
        {
          "output_type": "stream",
          "text": [
            "{1: 'python', 2: 'java'}\n"
          ],
          "name": "stdout"
        }
      ]
    },
    {
      "cell_type": "code",
      "metadata": {
        "id": "IXyDB1Ge8cac"
      },
      "source": [
        "dicionario = {}\n",
        "dicionario[0] = 'Python'\n",
        "dicionario[2] = 'Bootcamp'\n",
        "dicionario[3] = 'IGTI'\n",
        "print(dicionario)"
      ],
      "execution_count": null,
      "outputs": []
    },
    {
      "cell_type": "code",
      "metadata": {
        "colab": {
          "base_uri": "https://localhost:8080/"
        },
        "id": "LPxN9Bqr_BxP",
        "outputId": "6bc18864-d5ba-43e0-ecf5-5c9d3659dc1d"
      },
      "source": [
        "dicionario[2] = 'Curso'\n",
        "print(dicionario)"
      ],
      "execution_count": null,
      "outputs": [
        {
          "output_type": "stream",
          "text": [
            "{0: 'Python', 2: 'Curso', 3: 'IGTI'}\n"
          ],
          "name": "stdout"
        }
      ]
    },
    {
      "cell_type": "code",
      "metadata": {
        "colab": {
          "base_uri": "https://localhost:8080/"
        },
        "id": "ysQtdmTo_U11",
        "outputId": "273e4857-0ae5-45da-909b-1e5f111d5079"
      },
      "source": [
        "print('Acessando um item do dicionario, através do método GET: ')\n",
        "print(dicionario.get(2)) #deve-se listar entre os parênteses, após declarar o método get, o valor referente a chave do dicionário que se deseja obter o resultado."
      ],
      "execution_count": null,
      "outputs": [
        {
          "output_type": "stream",
          "text": [
            "Acessando um item do dicionario, através do método GET: \n",
            "Curso\n"
          ],
          "name": "stdout"
        }
      ]
    },
    {
      "cell_type": "code",
      "metadata": {
        "colab": {
          "base_uri": "https://localhost:8080/"
        },
        "id": "mr3_T3v5AKob",
        "outputId": "227dbee2-ab3b-4e7e-a256-44b7cd01ccb7"
      },
      "source": [
        "#deletando um valor do dicionário\n",
        "print(dicionario)\n",
        "print('Deletando um item do dicionario, obtemos:')\n",
        "del dicionario[2]\n",
        "print(dicionario)"
      ],
      "execution_count": null,
      "outputs": [
        {
          "output_type": "stream",
          "text": [
            "{0: 'Python', 2: 'Curso', 3: 'IGTI'}\n",
            "Deletando um item do dicionario, obtemos:\n",
            "{0: 'Python', 3: 'IGTI'}\n"
          ],
          "name": "stdout"
        }
      ]
    },
    {
      "cell_type": "code",
      "metadata": {
        "colab": {
          "base_uri": "https://localhost:8080/"
        },
        "id": "pxqybIzXAfPa",
        "outputId": "99a73214-af25-4d2e-a6a9-b7170c63cbe9"
      },
      "source": [
        "#deletando pelo método pop aleatório\n",
        "print('Deletando um item aleatório')\n",
        "dicionario.popitem()\n",
        "print(dicionario)"
      ],
      "execution_count": null,
      "outputs": [
        {
          "output_type": "stream",
          "text": [
            "Deletando um item aleatório\n",
            "{0: 'Python'}\n"
          ],
          "name": "stdout"
        }
      ]
    },
    {
      "cell_type": "code",
      "metadata": {
        "colab": {
          "base_uri": "https://localhost:8080/"
        },
        "id": "XHenGYbQAwfe",
        "outputId": "d1439f59-15d4-4170-b68e-986b28f696ed"
      },
      "source": [
        "#limpando os dados do dicionário\n",
        "print('Apagando todos os itens do dicionário: ')\n",
        "dicionario.clear()\n",
        "print(dicionario)"
      ],
      "execution_count": null,
      "outputs": [
        {
          "output_type": "stream",
          "text": [
            "Apagando todos os itens do dicionário: \n",
            "{}\n"
          ],
          "name": "stdout"
        }
      ]
    },
    {
      "cell_type": "code",
      "metadata": {
        "colab": {
          "base_uri": "https://localhost:8080/"
        },
        "id": "XHnRLvq1BFd6",
        "outputId": "75e01a74-ca58-48f6-a9f4-d838277e8208"
      },
      "source": [
        "#método input\n",
        "nome=input('Informe seu nome: ')\n",
        "print('Olá ', nome)\n",
        "print(type(nome))"
      ],
      "execution_count": null,
      "outputs": [
        {
          "output_type": "stream",
          "text": [
            "Informe seu nome: Douglas\n",
            "Olá  Douglas\n",
            "<class 'str'>\n"
          ],
          "name": "stdout"
        }
      ]
    },
    {
      "cell_type": "code",
      "metadata": {
        "colab": {
          "base_uri": "https://localhost:8080/"
        },
        "id": "zpWZZfuGBWd5",
        "outputId": "088c4e58-6dec-4813-ce32-9a7795fc6183"
      },
      "source": [
        "#realizando a entrada de dados numéricos\n",
        "base=float(input('Informe o valor da base do quadrado: '))\n",
        "altura=float(input('Informe o valor da altura do quadrado: '))\n",
        "area=base*altura\n",
        "print('Para a base %1.2f e altura %1.2f, a área do quadrado é igual a %1.2f' %(base, altura, area))"
      ],
      "execution_count": null,
      "outputs": [
        {
          "output_type": "stream",
          "text": [
            "Informe o valor da base do quadrado: 10.3\n",
            "Informe o valor da altura do quadrado: 34.2\n",
            "Para a base 10.30 e altura 34.20, a área do quadrado é igual a 352.26\n"
          ],
          "name": "stdout"
        }
      ]
    }
  ]
}