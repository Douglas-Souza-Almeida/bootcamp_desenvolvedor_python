{
  "nbformat": 4,
  "nbformat_minor": 0,
  "metadata": {
    "colab": {
      "name": "trabalho_pratico_1.ipynb",
      "provenance": []
    },
    "kernelspec": {
      "name": "python3",
      "display_name": "Python 3"
    }
  },
  "cells": [
    {
      "cell_type": "code",
      "metadata": {
        "id": "AhE2GJPS8BSs"
      },
      "source": [
        "idade = int(input('Entre com sua idade: ')\n",
        "nova_idade = idade+1\n",
        "print('No próximo ano você tera: {} anos.'.format(nova_idade))"
      ],
      "execution_count": null,
      "outputs": []
    },
    {
      "cell_type": "code",
      "metadata": {
        "id": "Tg3bVcKX8eU8"
      },
      "source": [
        "lado_a = 35\n",
        "lado_b = 14.33333\n",
        "area_do_retangulo = (lado_a)*(lado_b)\n",
        "print('O retângulo de lado A = %d e lado B = %.2f é %.3f'%(lado_a,lado_b,area_do_retangulo))"
      ],
      "execution_count": null,
      "outputs": []
    },
    {
      "cell_type": "code",
      "metadata": {
        "id": "GXsxYnap9CO9"
      },
      "source": [
        "lista_1 = [1,2,'IGTI']\n",
        "lista_2 = [2,3,'Bootcamp']\n",
        "lista_3 = lista_1 + lista_2\n",
        "print(lista_3)"
      ],
      "execution_count": null,
      "outputs": []
    },
    {
      "cell_type": "code",
      "metadata": {
        "id": "Lpp7bRXE9WDR"
      },
      "source": [
        "chute = int(input('Entre com um valor inteiro de 0 a 30: '))\n",
        "adivinhacao = [5,6,10,14,16,20,30]\n",
        "if chute in adivinhacao:\n",
        "  print('Você acertou um dos números que eu estava pensando.')\n",
        "  if chute > 15:\n",
        "    print('Esse número é maior do que 20.')\n",
        "  if chute < 20:\n",
        "    print('Esse número é menor do que 20.')\n",
        "  print('Você é fera.')\n",
        "  else:\n",
        "    print('Que pena, você errou. Pode tentar outra vez.')\n",
        "  print('Obrigado por participar.')"
      ],
      "execution_count": null,
      "outputs": []
    },
    {
      "cell_type": "code",
      "metadata": {
        "id": "0sDq1tzX-o6a"
      },
      "source": [
        "frutas = ['maçã', 'banana,' 'uva', 'goiaba']\n",
        "for x in frutas:\n",
        "  if x == 'uva':\n",
        "    break\n",
        "    print(x)"
      ],
      "execution_count": null,
      "outputs": []
    },
    {
      "cell_type": "code",
      "metadata": {
        "id": "qotWv3PC-805"
      },
      "source": [
        "n = 5\n",
        "while n >= 0:\n",
        "  n -= 1\n",
        "  print(n)"
      ],
      "execution_count": null,
      "outputs": []
    }
  ]
}