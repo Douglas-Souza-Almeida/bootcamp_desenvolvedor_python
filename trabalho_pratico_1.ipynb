{
  "nbformat": 4,
  "nbformat_minor": 0,
  "metadata": {
    "colab": {
      "name": "trabalho_pratico_1.ipynb",
      "provenance": []
    },
    "kernelspec": {
      "name": "python3",
      "display_name": "Python 3"
    }
  },
  "cells": [
    {
      "cell_type": "code",
      "metadata": {
        "id": "AhE2GJPS8BSs",
        "colab": {
          "base_uri": "https://localhost:8080/"
        },
        "outputId": "6b485587-f395-4158-c5cb-e3f5dd5fa732"
      },
      "source": [
        "idade = int(input('Entre com sua idade: '))\n",
        "nova_idade = idade + 1\n",
        "print('No próximo ano você tera: {} anos.'.format(nova_idade))"
      ],
      "execution_count": 11,
      "outputs": [
        {
          "output_type": "stream",
          "text": [
            "Entre com sua idade: 12\n",
            "No próximo ano você tera: 13 anos.\n"
          ],
          "name": "stdout"
        }
      ]
    },
    {
      "cell_type": "code",
      "metadata": {
        "id": "Tg3bVcKX8eU8",
        "colab": {
          "base_uri": "https://localhost:8080/"
        },
        "outputId": "85962885-7d23-4645-e3e7-1573f1eb46ef"
      },
      "source": [
        "lado_a = 35\n",
        "lado_b = 14.33333\n",
        "area_do_retangulo = (lado_a)*(lado_b)\n",
        "print('O retângulo de lado A = %d e lado B = %.2f é %.3f'%(lado_a,lado_b,area_do_retangulo))"
      ],
      "execution_count": 32,
      "outputs": [
        {
          "output_type": "stream",
          "text": [
            "O retângulo de lado A = 35 e lado B = 14.33 é 501.667\n"
          ],
          "name": "stdout"
        }
      ]
    },
    {
      "cell_type": "code",
      "metadata": {
        "id": "GXsxYnap9CO9",
        "colab": {
          "base_uri": "https://localhost:8080/"
        },
        "outputId": "24ab356c-a468-4609-8ab0-aceaf6aa5c53"
      },
      "source": [
        "lista_1 = [1,2,'IGTI']\n",
        "lista_2 = [2,3,'Bootcamp']\n",
        "lista_3 = lista_1 + lista_2\n",
        "print(lista_3)\n",
        "print(lista_3[1])\n",
        "print(lista_3[2])"
      ],
      "execution_count": 14,
      "outputs": [
        {
          "output_type": "stream",
          "text": [
            "[1, 2, 'IGTI', 2, 3, 'Bootcamp']\n",
            "2\n",
            "IGTI\n"
          ],
          "name": "stdout"
        }
      ]
    },
    {
      "cell_type": "code",
      "metadata": {
        "id": "Lpp7bRXE9WDR",
        "colab": {
          "base_uri": "https://localhost:8080/"
        },
        "outputId": "50c5362e-f8f7-4586-9e43-14a15b0e54dd"
      },
      "source": [
        "chute = int(input('Entre com um valor inteiro de 0 a 30: '))\n",
        "adivinhacao = [5,6,10,14,16,20,30]\n",
        "if chute in adivinhacao:\n",
        "  print('Você acertou um dos números que eu estava pensando.')\n",
        "  if chute > 15:\n",
        "    print('Esse número é maior do que 20.')\n",
        "  if chute < 20:\n",
        "    print('Esse número é menor do que 20.')\n",
        "  print('Você é fera.')\n",
        "else:\n",
        "  print('Que pena, você errou. Pode tentar outra vez.')\n",
        "print('Obrigado por participar.')"
      ],
      "execution_count": 19,
      "outputs": [
        {
          "output_type": "stream",
          "text": [
            "Entre com um valor inteiro de 0 a 30: 30\n",
            "Você acertou um dos números que eu estava pensando.\n",
            "Esse número é maior do que 20.\n",
            "Você é fera.\n",
            "Obrigado por participar.\n"
          ],
          "name": "stdout"
        }
      ]
    },
    {
      "cell_type": "code",
      "metadata": {
        "id": "0sDq1tzX-o6a",
        "colab": {
          "base_uri": "https://localhost:8080/"
        },
        "outputId": "095a7c7c-7774-4096-c27f-97088b826418"
      },
      "source": [
        "frutas = ['maçã', 'banana', 'uva', 'goiaba']\n",
        "for x in frutas:\n",
        "  if x == 'uva':\n",
        "    break\n",
        "  print(x)"
      ],
      "execution_count": 24,
      "outputs": [
        {
          "output_type": "stream",
          "text": [
            "maçã\n",
            "banana\n"
          ],
          "name": "stdout"
        }
      ]
    },
    {
      "cell_type": "code",
      "metadata": {
        "id": "qotWv3PC-805",
        "colab": {
          "base_uri": "https://localhost:8080/"
        },
        "outputId": "e9511685-dfa2-4c65-bd00-81ce9b5ea0e0"
      },
      "source": [
        "n = 5\n",
        "while n >= 0:\n",
        "  n -= 1\n",
        "  print(n)"
      ],
      "execution_count": 29,
      "outputs": [
        {
          "output_type": "stream",
          "text": [
            "4\n",
            "3\n",
            "2\n",
            "1\n",
            "0\n",
            "-1\n"
          ],
          "name": "stdout"
        }
      ]
    }
  ]
}