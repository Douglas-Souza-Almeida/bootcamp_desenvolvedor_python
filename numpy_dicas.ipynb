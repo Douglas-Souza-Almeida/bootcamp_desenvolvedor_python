{
  "nbformat": 4,
  "nbformat_minor": 0,
  "metadata": {
    "colab": {
      "name": "numpy_dicas.ipynb",
      "provenance": []
    },
    "kernelspec": {
      "name": "python3",
      "display_name": "Python 3"
    }
  },
  "cells": [
    {
      "cell_type": "code",
      "metadata": {
        "colab": {
          "base_uri": "https://localhost:8080/"
        },
        "id": "Gu8gzXvZwHuy",
        "outputId": "c4b5b892-2818-47b3-da9d-fa11645c0f45"
      },
      "source": [
        "#definindo um array\n",
        "import numpy as np\n",
        "x = np.array([[9,76,98],\n",
        "             [10,79,45],\n",
        "             [32,90,1]])\n",
        "print('x:\\n', x)"
      ],
      "execution_count": 3,
      "outputs": [
        {
          "output_type": "stream",
          "text": [
            "x:\n",
            " [[ 9 76 98]\n",
            " [10 79 45]\n",
            " [32 90  1]]\n"
          ],
          "name": "stdout"
        }
      ]
    },
    {
      "cell_type": "code",
      "metadata": {
        "colab": {
          "base_uri": "https://localhost:8080/"
        },
        "id": "uurTHIYhwxrg",
        "outputId": "4e731173-fcb4-4b69-9fd5-387848578361"
      },
      "source": [
        "#reshape\n",
        "\"\"\"\n",
        "o método reshape é utilizado para alterar a estrutura\n",
        "de um array, conforme os parâmetros definidos.\n",
        "foi definido x como sendo um array do tipo 3x3\n",
        "iremos alterar a estrutura deste array para 9x1, mantendo\n",
        "os valores originais com o método reshape\n",
        "importante: não é possível executar o reshape caso seja \n",
        "definido uma matriz que não comporte todos os valores sem\n",
        "espaços vazios, no caso acima, se fosse definido uma estrutura do tipo\n",
        "8x1, ou, 10x1, por exemplo, seria retornado um erro\n",
        "\"\"\"\n",
        "print('Alterando a estrutura do array para 9x1:\\n', x.reshape(9,1))"
      ],
      "execution_count": 9,
      "outputs": [
        {
          "output_type": "stream",
          "text": [
            "Alterando a estrutura do array para 9x1:\n",
            " [[ 9]\n",
            " [76]\n",
            " [98]\n",
            " [10]\n",
            " [79]\n",
            " [45]\n",
            " [32]\n",
            " [90]\n",
            " [ 1]]\n"
          ],
          "name": "stdout"
        }
      ]
    },
    {
      "cell_type": "code",
      "metadata": {
        "colab": {
          "base_uri": "https://localhost:8080/"
        },
        "id": "zRh6ABNJxp8H",
        "outputId": "2be59c73-ac19-446b-9bdf-62410d67a30d"
      },
      "source": [
        "#transposição de matriz\n",
        "#transposição de matriz tem por objetivo transformar os valores em linha para valores em coluna\n",
        "\n",
        "print('Transposição do array x:\\n', x.T)"
      ],
      "execution_count": 12,
      "outputs": [
        {
          "output_type": "stream",
          "text": [
            "Transposição do array x:\n",
            " [[ 9 10 32]\n",
            " [76 79 90]\n",
            " [98 45  1]]\n"
          ],
          "name": "stdout"
        }
      ]
    },
    {
      "cell_type": "code",
      "metadata": {
        "colab": {
          "base_uri": "https://localhost:8080/"
        },
        "id": "1Bgxr3fT2Kbi",
        "outputId": "9e4cc670-1c3f-4e37-e536-02bbc8c888b2"
      },
      "source": [
        "#np.sum - utilizado para realizar a soma em um dado eixo, ou, de todos os valores\n",
        "print('Soma de todos os valores: ', np.sum(x))\n",
        "print('Soma de todos os valores ao longo das colunas: ', np.sum(x, axis=0))\n",
        "print('Soma de todos os valores ao longo das linhas: ', np.sum(x, axis=1))"
      ],
      "execution_count": 16,
      "outputs": [
        {
          "output_type": "stream",
          "text": [
            "Soma de todos os valores:  440\n",
            "Soma de todos os valores ao longo das colunas:  [ 51 245 144]\n",
            "Soma de todos os valores ao longo das linhas:  [183 134 123]\n"
          ],
          "name": "stdout"
        }
      ]
    },
    {
      "cell_type": "code",
      "metadata": {
        "colab": {
          "base_uri": "https://localhost:8080/"
        },
        "id": "cGhOvUtJ3cZe",
        "outputId": "ab0b7062-e336-4163-a69f-da3e0b8d25a9"
      },
      "source": [
        "#np.mean - média\n",
        "print('A média de todos os valores é: ', np.mean(x))\n",
        "print('A média dos valores ao longo das linhas é: ', np.mean(x, axis=1))\n",
        "print('A média dos valores ao longo das colunas é: ', np.mean(x, axis=0))"
      ],
      "execution_count": 19,
      "outputs": [
        {
          "output_type": "stream",
          "text": [
            "A média de todos os valores é:  48.888888888888886\n",
            "A média dos valores ao longo das linhas é:  [61.         44.66666667 41.        ]\n",
            "A média dos valores ao longo das colunas é:  [17.         81.66666667 48.        ]\n"
          ],
          "name": "stdout"
        }
      ]
    },
    {
      "cell_type": "code",
      "metadata": {
        "colab": {
          "base_uri": "https://localhost:8080/"
        },
        "id": "AdX4pdmU4HmI",
        "outputId": "90c06937-78a5-4528-c66e-d473790356c4"
      },
      "source": [
        "#np.median - mediana\n",
        "print('A mediana de todos os valores é: ', np.median(x))\n",
        "print('A mediana dos valores ao longo das linhas é: ', np.median(x, axis=1))\n",
        "print('A mediana dos valores ao longo das colunas é: ', np.median(x, axis=0))"
      ],
      "execution_count": 23,
      "outputs": [
        {
          "output_type": "stream",
          "text": [
            "A mediana de todos os valores é:  45.0\n",
            "A mediana dos valores ao longo das linhas é:  [76. 45. 32.]\n",
            "A mediana dos valores ao longo das colunas é:  [10. 79. 45.]\n"
          ],
          "name": "stdout"
        }
      ]
    },
    {
      "cell_type": "code",
      "metadata": {
        "colab": {
          "base_uri": "https://localhost:8080/"
        },
        "id": "WIdrQd6X5CD3",
        "outputId": "ec49aa19-0574-4c60-e44b-7153e3a43b51"
      },
      "source": [
        "#np.where - retornar posições do array conforme a condição dada\n",
        "cond = (x % 2) == 0 #identificar todos valores pares\n",
        "print('Números pares do array: ', x[cond])\n",
        "print('Visualizando a posição dos números pares:\\n', cond)\n",
        "i, j = np.where(cond)\n",
        "print('Índices das linhas que contém números pares:\\t', i)\n",
        "print('Índices das colunas que contém números pares:\\t', j)"
      ],
      "execution_count": 33,
      "outputs": [
        {
          "output_type": "stream",
          "text": [
            "Números pares do array:  [76 98 10 32 90]\n",
            "Visualizando a posição dos números pares:\n",
            " [[False  True  True]\n",
            " [ True False False]\n",
            " [ True  True False]]\n",
            "Índices das linhas que contém números pares:\t [0 0 1 2 2]\n",
            "Índices das colunas que contém números pares:\t [1 2 0 0 1]\n"
          ],
          "name": "stdout"
        }
      ]
    }
  ]
}