{
  "nbformat": 4,
  "nbformat_minor": 0,
  "metadata": {
    "colab": {
      "name": "exemplo_metodos_in.ipynb",
      "provenance": []
    },
    "kernelspec": {
      "name": "python3",
      "display_name": "Python 3"
    }
  },
  "cells": [
    {
      "cell_type": "code",
      "metadata": {
        "colab": {
          "base_uri": "https://localhost:8080/"
        },
        "id": "9FQ_Ym_EoV2s",
        "outputId": "21d399cb-5713-4456-8bb7-ef922be110b0"
      },
      "source": [
        "#utilizando a ferramenta in\n",
        "lista=['maçã','arroz','feijão','sabão','cerveja']\n",
        "item=input('Informe um item para verificar se este consta na lista de compras: ')\n",
        "if item not in lista:\n",
        "  opcao=input('Este item não consta na lista. Deseja incluir este item? [S/N]: ')\n",
        "  if opcao == 'S' or opcao =='s':\n",
        "    lista.append(item)\n",
        "  else:\n",
        "    print('A lista não será atualizada.')\n",
        "else:\n",
        "  print('Este item já consta cadastrado na lista de compras.')\n",
        "print(lista)"
      ],
      "execution_count": 12,
      "outputs": [
        {
          "output_type": "stream",
          "text": [
            "Informe um item para verificar se este consta na lista de compras: papel\n",
            "Este item não consta na lista. Deseja incluir este item? [S/N]: s\n",
            "['maçã', 'arroz', 'feijão', 'sabão', 'cerveja', 'papel']\n"
          ],
          "name": "stdout"
        }
      ]
    },
    {
      "cell_type": "code",
      "metadata": {
        "colab": {
          "base_uri": "https://localhost:8080/"
        },
        "id": "UsPQWQ1Up4lr",
        "outputId": "22c64976-73ce-4436-dcc4-afb05ecce835"
      },
      "source": [
        "#calculando o fatorial\n",
        "n=int(input('Informe um número não negativo: '))\n",
        "fatorial=1\n",
        "for i in range(1, n+1):\n",
        "  fatorial=fatorial*i\n",
        "print(str(n)+'!=',fatorial)\n"
      ],
      "execution_count": 10,
      "outputs": [
        {
          "output_type": "stream",
          "text": [
            "Informe um número não negativo: 5\n",
            "5!= 120\n"
          ],
          "name": "stdout"
        }
      ]
    },
    {
      "cell_type": "code",
      "metadata": {
        "id": "jaAS71dIrqc6"
      },
      "source": [
        "#utilizando o loop while\n"
      ],
      "execution_count": null,
      "outputs": []
    }
  ]
}