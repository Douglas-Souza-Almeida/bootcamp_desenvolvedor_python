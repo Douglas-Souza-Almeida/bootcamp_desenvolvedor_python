{
  "nbformat": 4,
  "nbformat_minor": 0,
  "metadata": {
    "colab": {
      "name": "indexacao_arrays.ipynb",
      "provenance": []
    },
    "kernelspec": {
      "name": "python3",
      "display_name": "Python 3"
    }
  },
  "cells": [
    {
      "cell_type": "code",
      "metadata": {
        "colab": {
          "base_uri": "https://localhost:8080/"
        },
        "id": "5CxxxRz3o-CL",
        "outputId": "52098acf-b063-4864-fc3d-b351a4f284ac"
      },
      "source": [
        "#criando um array através do linspace\n",
        "import numpy as np\n",
        "x = np.linspace(10, 100, 10, dtype=int) #de 10 a 100, intervalo de 10 e inteiros\n",
        "print('X:\\n', x)"
      ],
      "execution_count": 2,
      "outputs": [
        {
          "output_type": "stream",
          "text": [
            "X:\n",
            " [ 10  20  30  40  50  60  70  80  90 100]\n"
          ],
          "name": "stdout"
        }
      ]
    },
    {
      "cell_type": "code",
      "metadata": {
        "colab": {
          "base_uri": "https://localhost:8080/"
        },
        "id": "AjTg5CxArZ_G",
        "outputId": "2c6d89da-4af9-4f46-947a-782eb103a01a"
      },
      "source": [
        "#exibindo os elementos\n",
        "print('X:\\n', x)\n",
        "print('O primeiro elemento é: ', x[0])\n",
        "print('O segundo elemento é: ', x[1])#sempre considerando como índice n-1\n",
        "print('O último elemento é: ', x[-1])#índice negativo percorre o array em sentido contrário "
      ],
      "execution_count": 5,
      "outputs": [
        {
          "output_type": "stream",
          "text": [
            "X:\n",
            " [ 10  20  30  40  50  60  70  80  90 100]\n",
            "O primeiro elemento é:  10\n",
            "O segundo elemento é:  20\n",
            "O último elemento é:  100\n"
          ],
          "name": "stdout"
        }
      ]
    },
    {
      "cell_type": "code",
      "metadata": {
        "colab": {
          "base_uri": "https://localhost:8080/"
        },
        "id": "IFHfRHwNsJiW",
        "outputId": "0be6ae42-82e4-4cfc-c480-e1fbb499baf4"
      },
      "source": [
        "  #utilizando slicing para extração\n",
        "  print('X:\\n', x)\n",
        "  print('Os dois primeiros elementos são: ', x[0:2])#lembrando que para o slicing, o último elemento do índice não é considerado\n",
        "  print('Os dois primeiros elementos são: ', x[:2])#não informando o primeiro elemento é considerado como 0\n",
        "  print('Os dois últimos elementos são: ',x[-2:])"
      ],
      "execution_count": 8,
      "outputs": [
        {
          "output_type": "stream",
          "text": [
            "X:\n",
            " [ 10  20  30  40  50  60  70  80  90 100]\n",
            "Os dois primeiros elementos são:  [10 20]\n",
            "Os dois primeiros elementos são:  [10 20]\n",
            "Os dois últimos elementos são:  [ 90 100]\n"
          ],
          "name": "stdout"
        }
      ]
    },
    {
      "cell_type": "code",
      "metadata": {
        "colab": {
          "base_uri": "https://localhost:8080/"
        },
        "id": "daF63qQ8tIW1",
        "outputId": "c0ac0c9e-c25d-4d19-a458-04389f958b39"
      },
      "source": [
        "#utilizando o slicing em matriz 2D\n",
        "x = x.reshape(2,5) #utilizando o método reshape para criar uma matriz com 2 linhas e 5 colunas\n",
        "print('X:\\n', x)"
      ],
      "execution_count": 15,
      "outputs": [
        {
          "output_type": "stream",
          "text": [
            "X:\n",
            " [[ 10  20  30  40  50]\n",
            " [ 60  70  80  90 100]]\n"
          ],
          "name": "stdout"
        }
      ]
    },
    {
      "cell_type": "code",
      "metadata": {
        "colab": {
          "base_uri": "https://localhost:8080/"
        },
        "id": "ZSsdZnzcuABh",
        "outputId": "790af3e6-fe11-44fe-8205-ea39fba31847"
      },
      "source": [
        "#extraindo os valores da matriz 2D\n",
        "print('O primeiro valor é: ', x[0,0])\n",
        "print('O terceiro valor é: ', x[0,2])\n",
        "print('O último valor é: ', x[1,4])"
      ],
      "execution_count": 19,
      "outputs": [
        {
          "output_type": "stream",
          "text": [
            "O primeiro valor é:  10\n",
            "O terceiro valor é:  30\n",
            "O último valor é:  100\n"
          ],
          "name": "stdout"
        }
      ]
    },
    {
      "cell_type": "code",
      "metadata": {
        "colab": {
          "base_uri": "https://localhost:8080/"
        },
        "id": "HTHSlFmruh5k",
        "outputId": "7f4ba846-8ab8-4f95-ba12-49806e3b9c13"
      },
      "source": [
        "#extaindo subarrays de matriz 2D\n",
        "print('A primeira linha é: ', x[0, 0:])\n",
        "print('A segunda linha é: ', x[1, 0:])\n",
        "print('A primeira coluna é: ',x[0:, 0])\n",
        "print('A quarta coluna é:\\n', x[: ,[3]])#para manter uma formatação de coluna, utiliza-se os colchetes"
      ],
      "execution_count": 33,
      "outputs": [
        {
          "output_type": "stream",
          "text": [
            "A primeira linha é:  [10 20 30 40 50]\n",
            "A segunda linha é:  [ 60  70  80  90 100]\n",
            "A primeira coluna é:  [10 60]\n",
            "A quarta coluna é:\n",
            " [[40]\n",
            " [90]]\n"
          ],
          "name": "stdout"
        }
      ]
    },
    {
      "cell_type": "code",
      "metadata": {
        "colab": {
          "base_uri": "https://localhost:8080/"
        },
        "id": "0rY-iowWwEyK",
        "outputId": "7c12b432-27d1-4678-d16d-3f5dc5f25794"
      },
      "source": [
        "#cuidados com compartilhamento de subarrays\n",
        "x = np.array([1,2,3])\n",
        "print('X = ', x)\n",
        "y = x[:2]\n",
        "print('Y = ', y)\n",
        "y[0]=-4 #alterando o valor do índice 0 da matriz y\n",
        "print('Nova matriz:\\nY = ', y)\n",
        "print('Conferindo a matriz X\\nX = ', x)#ao alterar a matriz Y, alterou-se também a matriz X porque o slicing é um compartilhamento de memória"
      ],
      "execution_count": 37,
      "outputs": [
        {
          "output_type": "stream",
          "text": [
            "X =  [1 2 3]\n",
            "Y =  [1 2]\n",
            "Nova matriz:\n",
            "Y =  [-4  2]\n",
            "Conferindo a matriz X\n",
            "X =  [-4  2  3]\n"
          ],
          "name": "stdout"
        }
      ]
    },
    {
      "cell_type": "code",
      "metadata": {
        "colab": {
          "base_uri": "https://localhost:8080/"
        },
        "id": "Gkky3z54xTuS",
        "outputId": "aac266c4-c5d3-4e31-b253-2692a025eadd"
      },
      "source": [
        "#utilizando o método .copy\n",
        "y = x[:2].copy()#com esta função, não haverá compartilhamento de memória\n",
        "print('Matriz X:\\nX = ', x)\n",
        "print('Matriz Y:\\nY = ', y)\n",
        "y[0] = -100\n",
        "print('Nova matriz Y:\\n Y = ', y)\n",
        "print('Checando a matriz X:\\nX = ', x)#com o .copy não houve alteração na matriz X"
      ],
      "execution_count": 38,
      "outputs": [
        {
          "output_type": "stream",
          "text": [
            "Matriz X:\n",
            "X =  [-4  2  3]\n",
            "Matriz Y:\n",
            "Y =  [-4  2]\n",
            "Nova matriz Y:\n",
            " Y =  [-100    2]\n",
            "Checando a matriz X:\n",
            "X =  [-4  2  3]\n"
          ],
          "name": "stdout"
        }
      ]
    }
  ]
}