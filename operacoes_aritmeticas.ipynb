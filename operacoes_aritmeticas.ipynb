{
  "nbformat": 4,
  "nbformat_minor": 0,
  "metadata": {
    "colab": {
      "name": "operacoes_aritmeticas.ipynb",
      "provenance": []
    },
    "kernelspec": {
      "name": "python3",
      "display_name": "Python 3"
    }
  },
  "cells": [
    {
      "cell_type": "code",
      "metadata": {
        "id": "AYKt2uuYy3q3",
        "colab": {
          "base_uri": "https://localhost:8080/"
        },
        "outputId": "7d002689-bdb5-46e9-9417-0d860ced4939"
      },
      "source": [
        "#criando dois arrays\n",
        "import numpy as np\n",
        "x = np.ones((2,2))\n",
        "y = np.eye(2)\n",
        "print('X =\\n', x)\n",
        "print('Y =\\n', y)"
      ],
      "execution_count": 2,
      "outputs": [
        {
          "output_type": "stream",
          "text": [
            "X =\n",
            " [[1. 1.]\n",
            " [1. 1.]]\n",
            "Y =\n",
            " [[1. 0.]\n",
            " [0. 1.]]\n"
          ],
          "name": "stdout"
        }
      ]
    },
    {
      "cell_type": "code",
      "metadata": {
        "colab": {
          "base_uri": "https://localhost:8080/"
        },
        "id": "6ALVz84cSbc-",
        "outputId": "3c350732-eb49-4d12-d430-92bd686a3b6e"
      },
      "source": [
        "#soma\n",
        "print('A soma das duas matrizes é:\\n', x+y)\n",
        "print('A soma com elementos tipo float é:\\n ', (x+y)+2.5) #broadcasting"
      ],
      "execution_count": 5,
      "outputs": [
        {
          "output_type": "stream",
          "text": [
            "A soma das duas matrizes é:\n",
            " [[2. 1.]\n",
            " [1. 2.]]\n",
            "A soma com elementos tipo float é:\n",
            " [[4.5 3.5]\n",
            " [3.5 4.5]]\n"
          ],
          "name": "stdout"
        }
      ]
    },
    {
      "cell_type": "code",
      "metadata": {
        "colab": {
          "base_uri": "https://localhost:8080/"
        },
        "id": "Tk_HWfWoTZOJ",
        "outputId": "da3ff361-f5f7-4366-e4ce-d562b5732647"
      },
      "source": [
        "#subtração\n",
        "print('A subtração das duas matrizes é:\\n', x-y)\n",
        "print('A subtração das duas matrizes com elementos tipo float é\\n', (x-y)-5.5)"
      ],
      "execution_count": 6,
      "outputs": [
        {
          "output_type": "stream",
          "text": [
            "A subtração das duas matrizes é:\n",
            " [[0. 1.]\n",
            " [1. 0.]]\n",
            "A subtração das duas matrizes com elementos tipo float é\n",
            " [[-5.5 -4.5]\n",
            " [-4.5 -5.5]]\n"
          ],
          "name": "stdout"
        }
      ]
    },
    {
      "cell_type": "code",
      "metadata": {
        "colab": {
          "base_uri": "https://localhost:8080/"
        },
        "id": "UO_PyjQeT-z_",
        "outputId": "2db20b42-49a4-4523-8c1a-5574e2a6d738"
      },
      "source": [
        "#divisão\n",
        "print('A divisão das duas matrizes é:\\n', x/y) #retornando um valor \"inf\" como infinito, pois é uma divisão por zero\n",
        "print('Uma divisão utilizando elementos tipo float é:\\n', x/1.5) #broadcasting"
      ],
      "execution_count": 13,
      "outputs": [
        {
          "output_type": "stream",
          "text": [
            "A divisão das duas matrizes é:\n",
            " [[ 1. inf]\n",
            " [inf  1.]]\n",
            "Uma divisão utilizando elementos tipo float é:\n",
            " [[0.66666667 0.66666667]\n",
            " [0.66666667 0.66666667]]\n"
          ],
          "name": "stdout"
        },
        {
          "output_type": "stream",
          "text": [
            "/usr/local/lib/python3.6/dist-packages/ipykernel_launcher.py:2: RuntimeWarning: divide by zero encountered in true_divide\n",
            "  \n"
          ],
          "name": "stderr"
        }
      ]
    },
    {
      "cell_type": "code",
      "metadata": {
        "colab": {
          "base_uri": "https://localhost:8080/",
          "height": 202
        },
        "id": "N3uvAxKLU0dA",
        "outputId": "418d8f74-c7cb-41c4-9c6d-f1d5b7bdda97"
      },
      "source": [
        "#quando o broadcasting não funciona\n",
        "np.array([1,2,3])+np.array([1,2])\n",
        "#retornará um erro pois há uma inconsistência entre as matrizes, visto que uma \n",
        "#possui 3 elementos e a outra possui 2"
      ],
      "execution_count": 14,
      "outputs": [
        {
          "output_type": "error",
          "ename": "ValueError",
          "evalue": "ignored",
          "traceback": [
            "\u001b[0;31m---------------------------------------------------------------------------\u001b[0m",
            "\u001b[0;31mValueError\u001b[0m                                Traceback (most recent call last)",
            "\u001b[0;32m<ipython-input-14-69984de7292c>\u001b[0m in \u001b[0;36m<module>\u001b[0;34m()\u001b[0m\n\u001b[1;32m      1\u001b[0m \u001b[0;31m#quando o broadcasting não funciona\u001b[0m\u001b[0;34m\u001b[0m\u001b[0;34m\u001b[0m\u001b[0;34m\u001b[0m\u001b[0m\n\u001b[0;32m----> 2\u001b[0;31m \u001b[0mnp\u001b[0m\u001b[0;34m.\u001b[0m\u001b[0marray\u001b[0m\u001b[0;34m(\u001b[0m\u001b[0;34m[\u001b[0m\u001b[0;36m1\u001b[0m\u001b[0;34m,\u001b[0m\u001b[0;36m2\u001b[0m\u001b[0;34m,\u001b[0m\u001b[0;36m3\u001b[0m\u001b[0;34m]\u001b[0m\u001b[0;34m)\u001b[0m\u001b[0;34m+\u001b[0m\u001b[0mnp\u001b[0m\u001b[0;34m.\u001b[0m\u001b[0marray\u001b[0m\u001b[0;34m(\u001b[0m\u001b[0;34m[\u001b[0m\u001b[0;36m1\u001b[0m\u001b[0;34m,\u001b[0m\u001b[0;36m2\u001b[0m\u001b[0;34m]\u001b[0m\u001b[0;34m)\u001b[0m\u001b[0;34m\u001b[0m\u001b[0;34m\u001b[0m\u001b[0m\n\u001b[0m\u001b[1;32m      3\u001b[0m \u001b[0;31m#retornará um erro pois\u001b[0m\u001b[0;34m\u001b[0m\u001b[0;34m\u001b[0m\u001b[0;34m\u001b[0m\u001b[0m\n",
            "\u001b[0;31mValueError\u001b[0m: operands could not be broadcast together with shapes (3,) (2,) "
          ]
        }
      ]
    },
    {
      "cell_type": "code",
      "metadata": {
        "colab": {
          "base_uri": "https://localhost:8080/"
        },
        "id": "XNfA7F83Vi-u",
        "outputId": "e9a9d657-6eb9-4374-bfbe-b894ecdec7aa"
      },
      "source": [
        "#subtração, soma, multiplicação, divisão\n",
        "a=(x+y)/(x*y)-x\n",
        "print('A =\\n', a)"
      ],
      "execution_count": 15,
      "outputs": [
        {
          "output_type": "stream",
          "text": [
            "A =\n",
            " [[ 1. inf]\n",
            " [inf  1.]]\n"
          ],
          "name": "stdout"
        },
        {
          "output_type": "stream",
          "text": [
            "/usr/local/lib/python3.6/dist-packages/ipykernel_launcher.py:2: RuntimeWarning: divide by zero encountered in true_divide\n",
            "  \n"
          ],
          "name": "stderr"
        }
      ]
    }
  ]
}