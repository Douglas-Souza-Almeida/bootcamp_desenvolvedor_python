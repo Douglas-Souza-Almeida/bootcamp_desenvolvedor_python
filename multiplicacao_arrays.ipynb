{
  "nbformat": 4,
  "nbformat_minor": 0,
  "metadata": {
    "colab": {
      "name": "multiplicacao_arrays.ipynb",
      "provenance": [],
      "collapsed_sections": []
    },
    "kernelspec": {
      "name": "python3",
      "display_name": "Python 3"
    }
  },
  "cells": [
    {
      "cell_type": "code",
      "metadata": {
        "colab": {
          "base_uri": "https://localhost:8080/"
        },
        "id": "MVUuGgizWcT6",
        "outputId": "7e77e3be-3391-421e-dfe2-b7e67c4ff29e"
      },
      "source": [
        "#multiplicando os elementos\n",
        "import numpy as np\n",
        "x=np.eye(2)\n",
        "y=np.ones((2,2))\n",
        "print('X =\\n', x)\n",
        "print('Y =\\n', y)\n",
        "print('Multiplicando as duas matrizes, obtemos:\\n', x*y)\n"
      ],
      "execution_count": 2,
      "outputs": [
        {
          "output_type": "stream",
          "text": [
            "X =\n",
            " [[1. 0.]\n",
            " [0. 1.]]\n",
            "Y =\n",
            " [[1. 1.]\n",
            " [1. 1.]]\n",
            "Multiplicando as duas matrizes, obtemos:\n",
            " [[1. 0.]\n",
            " [0. 1.]]\n"
          ],
          "name": "stdout"
        }
      ]
    },
    {
      "cell_type": "code",
      "metadata": {
        "colab": {
          "base_uri": "https://localhost:8080/"
        },
        "id": "wES8w9PnXa7f",
        "outputId": "19c2f0be-2660-49d9-abf0-1dbb003f255d"
      },
      "source": [
        "#utilizando broadcasting\n",
        "print('Multiplicando X por 2:\\n', x*2)"
      ],
      "execution_count": null,
      "outputs": [
        {
          "output_type": "stream",
          "text": [
            "Multiplicando X por 2:\n",
            " [[2. 0.]\n",
            " [0. 2.]]\n"
          ],
          "name": "stdout"
        }
      ]
    },
    {
      "cell_type": "code",
      "metadata": {
        "colab": {
          "base_uri": "https://localhost:8080/"
        },
        "id": "fkXHWTnCXxdB",
        "outputId": "10197a30-48a9-4667-cfa1-9ff724e41d07"
      },
      "source": [
        "#multiplicação matricial\n",
        "print('Multiplicação utilizando np.dot:\\n', np.dot(x,y))\n",
        "print('Multiplicação utilizando @:\\n', x@y)\n",
        "print('Multiplicação utilizando .dot:\\n', x.dot(y))\n",
        "#em todos os métodos obtivemos os mesmos valores"
      ],
      "execution_count": null,
      "outputs": [
        {
          "output_type": "stream",
          "text": [
            "Multiplicação utilizando np.dot:\n",
            " [[1. 1.]\n",
            " [1. 1.]]\n",
            "Multiplicação utilizando @:\n",
            " [[1. 1.]\n",
            " [1. 1.]]\n",
            "Multiplicação utilizando .dot:\n",
            " [[1. 1.]\n",
            " [1. 1.]]\n"
          ],
          "name": "stdout"
        }
      ]
    },
    {
      "cell_type": "code",
      "metadata": {
        "colab": {
          "base_uri": "https://localhost:8080/"
        },
        "id": "VTTYJM3cYdrW",
        "outputId": "2b7d7963-8c89-4fc8-d91b-9aa2b59ac328"
      },
      "source": [
        "'''\n",
        "utilizando os métodos para resolução das seguintes equações:\n",
        "a + 2*b = 7\n",
        "3*a - 2*b = -11\n",
        "A solução matricial para este problema pode ser descrita como:\n",
        "Ax = c, onde:\n",
        "A = [[1, 2], [3,-2]] << valores da equação\n",
        "c = [7, -11] << valores de igualdade das equações\n",
        "x = [a, b] << valores que devemos descobrir\n",
        "'''\n",
        "#definindo o problema:\n",
        "A = np.array([[1,2], [3,-2]])\n",
        "c = np.array([[7], [-11]])\n",
        "print('A =\\n', A)\n",
        "print('c =\\n', c)"
      ],
      "execution_count": 3,
      "outputs": [
        {
          "output_type": "stream",
          "text": [
            "A =\n",
            " [[ 1  2]\n",
            " [ 3 -2]]\n",
            "c =\n",
            " [[  7]\n",
            " [-11]]\n"
          ],
          "name": "stdout"
        }
      ]
    },
    {
      "cell_type": "code",
      "metadata": {
        "id": "yrhzyi9nbYKj",
        "colab": {
          "base_uri": "https://localhost:8080/"
        },
        "outputId": "bb5c68c9-ff3c-47af-c544-6425e9fb7258"
      },
      "source": [
        "'''\n",
        "A solução para o problema, consiste em dividir o vetor resultado pela matriz A,\n",
        "ou, multiplicar os resultados pela matriz A inversa (A^⁻1)\n",
        "'''\n",
        "x = np.dot(np.linalg.inv(A),c)\n",
        "print('Os valores de A e de B correspondem a: ', x.ravel())"
      ],
      "execution_count": 5,
      "outputs": [
        {
          "output_type": "stream",
          "text": [
            "Os valores de A e de B correspondem a:  [-1.  4.]\n"
          ],
          "name": "stdout"
        }
      ]
    }
  ]
}