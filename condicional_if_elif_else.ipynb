{
  "nbformat": 4,
  "nbformat_minor": 0,
  "metadata": {
    "colab": {
      "name": "condicional_if_elif_else.ipynb",
      "provenance": []
    },
    "kernelspec": {
      "name": "python3",
      "display_name": "Python 3"
    }
  },
  "cells": [
    {
      "cell_type": "code",
      "metadata": {
        "colab": {
          "base_uri": "https://localhost:8080/"
        },
        "id": "ShZ_NlIxQqRL",
        "outputId": "9e4c8022-fbbe-41fd-b985-4a63adc027a9"
      },
      "source": [
        "numero1=float(input('Digite um número: '))\n",
        "numero2=float(input('Digite outro número: '))\n",
        "escolha=int(input('Escolha o número referente a operação que deseja realizar:\\n(1)-Soma\\n(2)-Subtração\\n(3)-Multiplicação\\n(4)-Divisão\\n(5)-Sair\\n'))\n",
        "if escolha == 1:\n",
        "  soma = numero1+numero2\n",
        "  print('A soma dos dois números é igual a %1.2f' %soma)\n",
        "elif escolha == 2:\n",
        "  subtracao = numero1-numero2\n",
        "  print('A subtração dos dois números é igual a %1.2f' %subtracao)\n",
        "elif escolha == 3:\n",
        "  multiplicacao = numero1*numero2\n",
        "  print('A multiplicação dos dois números é igual a %1.2f' %multiplicacao)\n",
        "elif escolha == 4:\n",
        "  divisao = numero1 / numero2\n",
        "  print('A divisão dos dois números é igual a %1.2f' %divisao)\n",
        "elif escolha == 5:\n",
        "  print('Saindo do sistema...')\n",
        "else:\n",
        "  print('Não foi possível concluir a operação.')"
      ],
      "execution_count": 15,
      "outputs": [
        {
          "output_type": "stream",
          "text": [
            "Digite um número: 10\n",
            "Digite outro número: 10\n",
            "Escolha o número referente a operação que deseja realizar:\n",
            "(1)-Soma\n",
            "(2)-Subtração\n",
            "(3)-Multiplicação\n",
            "(4)-Divisão\n",
            "(5)-Sair\n",
            "7\n",
            "Não foi possível concluir a operação.\n"
          ],
          "name": "stdout"
        }
      ]
    }
  ]
}